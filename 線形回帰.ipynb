{
 "cells": [
  {
   "cell_type": "code",
   "execution_count": 0,
   "metadata": {
    "colab": {},
    "colab_type": "code",
    "id": "WC6X7h32HxS2"
   },
   "outputs": [],
   "source": [
    "import torch\n",
    "import torch.nn as nn\n",
    "import torch.optim as optim\n",
    "import matplotlib.pyplot as plt\n",
    "import numpy as np\n",
    "%matplotlib inline\n",
    "plt.style.use(\"ggplot\")"
   ]
  },
  {
   "cell_type": "code",
   "execution_count": 0,
   "metadata": {
    "colab": {
     "base_uri": "https://localhost:8080/",
     "height": 35
    },
    "colab_type": "code",
    "id": "-zAGvUTFZG5Q",
    "outputId": "35315e45-4777-4e3a-94bc-dc799dd5068f"
   },
   "outputs": [
    {
     "data": {
      "text/plain": [
       "<torch._C.Generator at 0x7efebc1920b0>"
      ]
     },
     "execution_count": 3,
     "metadata": {
      "tags": []
     },
     "output_type": "execute_result"
    }
   ],
   "source": [
    "torch.manual_seed(123)"
   ]
  },
  {
   "cell_type": "code",
   "execution_count": 0,
   "metadata": {
    "colab": {},
    "colab_type": "code",
    "id": "S7e1ELq0ZSjO"
   },
   "outputs": [],
   "source": [
    "a = 3\n",
    "b = 2\n",
    "x = torch.linspace(0, 5, 100).view(100, 1)"
   ]
  },
  {
   "cell_type": "code",
   "execution_count": 0,
   "metadata": {
    "colab": {},
    "colab_type": "code",
    "id": "yyHizTshZbEE"
   },
   "outputs": [],
   "source": [
    "eps = torch.randn(100, 1)\n",
    "y = a * x + b + eps"
   ]
  },
  {
   "cell_type": "code",
   "execution_count": 0,
   "metadata": {
    "colab": {
     "base_uri": "https://localhost:8080/",
     "height": 284
    },
    "colab_type": "code",
    "id": "zvyFWvo_ZigO",
    "outputId": "18381333-9e15-4422-a7de-003503c76f69"
   },
   "outputs": [
    {
     "data": {
      "text/plain": [
       "<matplotlib.collections.PathCollection at 0x7efebbb896d8>"
      ]
     },
     "execution_count": 6,
     "metadata": {
      "tags": []
     },
     "output_type": "execute_result"
    },
    {
     "data": {
      "image/png": "[encoded data removed]",
      "text/plain": [
       "<Figure size 432x288 with 1 Axes>"
      ]
     },
     "metadata": {
      "tags": []
     },
     "output_type": "display_data"
    }
   ],
   "source": [
    "plt.scatter(x, y)"
   ]
  },
  {
   "cell_type": "code",
   "execution_count": 0,
   "metadata": {
    "colab": {},
    "colab_type": "code",
    "id": "semm5rovZu3U"
   },
   "outputs": [],
   "source": [
    "class LR(nn.Module):\n",
    "    def __init__(self):\n",
    "        super().__init__()\n",
    "        self.linear = nn.Linear(in_features=1, out_features=1)\n",
    "    def forward(self, x):\n",
    "        output = self.linear(x)\n",
    "        return output"
   ]
  },
  {
   "cell_type": "code",
   "execution_count": 0,
   "metadata": {
    "colab": {},
    "colab_type": "code",
    "id": "HzaEE9WsaTLm"
   },
   "outputs": [],
   "source": [
    "model = LR()"
   ]
  },
  {
   "cell_type": "code",
   "execution_count": 0,
   "metadata": {
    "colab": {},
    "colab_type": "code",
    "id": "-rSMcH8XaVvG"
   },
   "outputs": [],
   "source": [
    "x_test = torch.tensor([[1.0], [2.0]])"
   ]
  },
  {
   "cell_type": "code",
   "execution_count": 0,
   "metadata": {
    "colab": {
     "base_uri": "https://localhost:8080/",
     "height": 53
    },
    "colab_type": "code",
    "id": "YU6J5g3Hadju",
    "outputId": "8e44e285-a2fe-43cb-b1a6-00a46a4f0d46"
   },
   "outputs": [
    {
     "data": {
      "text/plain": [
       "tensor([[-0.6505],\n",
       "        [-1.4166]], grad_fn=<AddmmBackward>)"
      ]
     },
     "execution_count": 10,
     "metadata": {
      "tags": []
     },
     "output_type": "execute_result"
    }
   ],
   "source": [
    "model(x_test)"
   ]
  },
  {
   "cell_type": "code",
   "execution_count": 0,
   "metadata": {
    "colab": {},
    "colab_type": "code",
    "id": "wpZIcbzqafQl"
   },
   "outputs": [],
   "source": [
    "x2 = torch.linspace(0, 3, 100).view(100, 1)"
   ]
  },
  {
   "cell_type": "code",
   "execution_count": 0,
   "metadata": {
    "colab": {
     "base_uri": "https://localhost:8080/",
     "height": 35
    },
    "colab_type": "code",
    "id": "r0zxqBhiancV",
    "outputId": "2ace450b-50ac-486f-a8f7-1d8db9432d7a"
   },
   "outputs": [
    {
     "data": {
      "text/plain": [
       "torch.Size([100, 1])"
      ]
     },
     "execution_count": 12,
     "metadata": {
      "tags": []
     },
     "output_type": "execute_result"
    }
   ],
   "source": [
    "x2.size()"
   ]
  },
  {
   "cell_type": "code",
   "execution_count": 0,
   "metadata": {
    "colab": {},
    "colab_type": "code",
    "id": "a6RxYoC9aoc-"
   },
   "outputs": [],
   "source": [
    "y_pred = model(x2)"
   ]
  },
  {
   "cell_type": "code",
   "execution_count": 0,
   "metadata": {
    "colab": {
     "base_uri": "https://localhost:8080/",
     "height": 283
    },
    "colab_type": "code",
    "id": "-TvRd7L7arjk",
    "outputId": "00fd2173-fcbc-4fd8-ecd6-6b216b1a2595"
   },
   "outputs": [
    {
     "data": {
      "text/plain": [
       "<matplotlib.legend.Legend at 0x7efeb8e7d630>"
      ]
     },
     "execution_count": 14,
     "metadata": {
      "tags": []
     },
     "output_type": "execute_result"
    },
    {
     "data": {
      "image/png": "[encoded data removed]",
      "text/plain": [
       "<Figure size 432x288 with 1 Axes>"
      ]
     },
     "metadata": {
      "tags": []
     },
     "output_type": "display_data"
    }
   ],
   "source": [
    "plt.plot(x2, y_pred.detach(), label=\"prediction\")\n",
    "plt.scatter(x, y, label=\"data\")\n",
    "plt.legend()"
   ]
  },
  {
   "cell_type": "code",
   "execution_count": 0,
   "metadata": {
    "colab": {},
    "colab_type": "code",
    "id": "cnS0c8d6a_B-"
   },
   "outputs": [],
   "source": [
    "criterion = nn.MSELoss()\n",
    "optimizer = optim.SGD(model.parameters(), lr=0.001)"
   ]
  },
  {
   "cell_type": "code",
   "execution_count": 0,
   "metadata": {
    "colab": {
     "base_uri": "https://localhost:8080/",
     "height": 917
    },
    "colab_type": "code",
    "id": "olnBRKXHbTx9",
    "outputId": "f097ac3f-2c82-4ad5-8065-a6ecaedf6b40"
   },
   "outputs": [
    {
     "name": "stdout",
     "output_type": "stream",
     "text": [
      "epoch: 0, loss: 156.7843017578125\n",
      "epoch: 10, loss: 108.74256896972656\n",
      "epoch: 20, loss: 75.5283203125\n",
      "epoch: 30, loss: 52.56508255004883\n",
      "epoch: 40, loss: 36.68894958496094\n",
      "epoch: 50, loss: 25.712501525878906\n",
      "epoch: 60, loss: 18.12348175048828\n",
      "epoch: 70, loss: 12.876379013061523\n",
      "epoch: 80, loss: 9.248371124267578\n",
      "epoch: 90, loss: 6.7397308349609375\n",
      "epoch: 100, loss: 5.004981517791748\n",
      "epoch: 110, loss: 3.805262565612793\n",
      "epoch: 120, loss: 2.97544527053833\n",
      "epoch: 130, loss: 2.401362895965576\n",
      "epoch: 140, loss: 2.0040884017944336\n",
      "epoch: 150, loss: 1.7290520668029785\n",
      "epoch: 160, loss: 1.5385338068008423\n",
      "epoch: 170, loss: 1.4064480066299438\n",
      "epoch: 180, loss: 1.3147622346878052\n",
      "epoch: 190, loss: 1.2510120868682861\n",
      "epoch: 200, loss: 1.2065790891647339\n",
      "epoch: 210, loss: 1.1755023002624512\n",
      "epoch: 220, loss: 1.1536643505096436\n",
      "epoch: 230, loss: 1.1382172107696533\n",
      "epoch: 240, loss: 1.127191185951233\n",
      "epoch: 250, loss: 1.1192246675491333\n",
      "epoch: 260, loss: 1.1133770942687988\n",
      "epoch: 270, loss: 1.1089966297149658\n",
      "epoch: 280, loss: 1.1056344509124756\n",
      "epoch: 290, loss: 1.102979063987732\n",
      "epoch: 300, loss: 1.1008152961730957\n",
      "epoch: 310, loss: 1.0989947319030762\n",
      "epoch: 320, loss: 1.097414255142212\n",
      "epoch: 330, loss: 1.0960028171539307\n",
      "epoch: 340, loss: 1.0947109460830688\n",
      "epoch: 350, loss: 1.0935049057006836\n",
      "epoch: 360, loss: 1.0923614501953125\n",
      "epoch: 370, loss: 1.0912635326385498\n",
      "epoch: 380, loss: 1.0901999473571777\n",
      "epoch: 390, loss: 1.0891631841659546\n",
      "epoch: 400, loss: 1.0881478786468506\n",
      "epoch: 410, loss: 1.087149739265442\n",
      "epoch: 420, loss: 1.086166501045227\n",
      "epoch: 430, loss: 1.0851963758468628\n",
      "epoch: 440, loss: 1.0842376947402954\n",
      "epoch: 450, loss: 1.0832899808883667\n",
      "epoch: 460, loss: 1.0823522806167603\n",
      "epoch: 470, loss: 1.0814238786697388\n",
      "epoch: 480, loss: 1.0805048942565918\n",
      "epoch: 490, loss: 1.0795947313308716\n"
     ]
    }
   ],
   "source": [
    "losses = []\n",
    "num_epoch = 500\n",
    "for epoch in range(num_epoch):\n",
    "    optimizer.zero_grad()\n",
    "    y_pred = model(x)\n",
    "    loss = criterion(y_pred, y)\n",
    "    loss.backward()\n",
    "    optimizer.step()\n",
    "    if epoch % 10 == 0:\n",
    "        print(\"epoch: {}, loss: {}\".format(epoch, loss.item()))\n",
    "        losses.append(loss.item())"
   ]
  },
  {
   "cell_type": "code",
   "execution_count": 0,
   "metadata": {
    "colab": {
     "base_uri": "https://localhost:8080/",
     "height": 283
    },
    "colab_type": "code",
    "id": "JOVaLlqacMVC",
    "outputId": "5c20c21f-5f75-44ed-8d8b-95a736902b93"
   },
   "outputs": [
    {
     "data": {
      "text/plain": [
       "[<matplotlib.lines.Line2D at 0x7efeb8e20978>]"
      ]
     },
     "execution_count": 17,
     "metadata": {
      "tags": []
     },
     "output_type": "execute_result"
    },
    {
     "data": {
      "image/png": "[encoded data removed]",
      "text/plain": [
       "<Figure size 432x288 with 1 Axes>"
      ]
     },
     "metadata": {
      "tags": []
     },
     "output_type": "display_data"
    }
   ],
   "source": [
    "plt.plot(losses)"
   ]
  },
  {
   "cell_type": "code",
   "execution_count": 0,
   "metadata": {
    "colab": {
     "base_uri": "https://localhost:8080/",
     "height": 284
    },
    "colab_type": "code",
    "id": "X4QN6WBkcSme",
    "outputId": "f8796d67-160f-4061-9cbc-8cb9e15dcf94"
   },
   "outputs": [
    {
     "data": {
      "text/plain": [
       "<matplotlib.legend.Legend at 0x7efeb7d06e48>"
      ]
     },
     "execution_count": 18,
     "metadata": {
      "tags": []
     },
     "output_type": "execute_result"
    },
    {
     "data": {
      "image/png": "[encoded data removed]",
      "text/plain": [
       "<Figure size 432x288 with 1 Axes>"
      ]
     },
     "metadata": {
      "tags": []
     },
     "output_type": "display_data"
    }
   ],
   "source": [
    "x_test = torch.linspace(0, 5, 100).view(100, 1)\n",
    "y_test = model(x_test)\n",
    "plt.plot(x_test, y_test.detach(), label=\"prediction\")\n",
    "plt.scatter(x, y, label=\"data\")\n",
    "plt.legend()"
   ]
  },
  {
   "cell_type": "code",
   "execution_count": 0,
   "metadata": {
    "colab": {},
    "colab_type": "code",
    "id": "KwP5Um3YcnwP"
   },
   "outputs": [],
   "source": []
  }
 ],
 "metadata": {
  "colab": {
   "collapsed_sections": [],
   "name": "線形回帰.ipynb",
   "provenance": []
  },
  "kernelspec": {
   "display_name": "Python 3",
   "language": "python",
   "name": "python3"
  },
  "language_info": {
   "codemirror_mode": {
    "name": "ipython",
    "version": 3
   },
   "file_extension": ".py",
   "mimetype": "text/x-python",
   "name": "python",
   "nbconvert_exporter": "python",
   "pygments_lexer": "ipython3",
   "version": "3.5.5"
  }
 },
 "nbformat": 4,
 "nbformat_minor": 1
}
